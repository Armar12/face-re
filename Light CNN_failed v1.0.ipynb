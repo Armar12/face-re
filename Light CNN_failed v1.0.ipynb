{
 "cells": [
  {
   "cell_type": "code",
   "execution_count": 27,
   "metadata": {},
   "outputs": [],
   "source": [
    "import tensorflow as tf\n",
    "import numpy as np\n",
    "import os\n",
    "from numpy import genfromtxt\n",
    "from keras import backend as K\n",
    "from keras.layers import Conv2D, ZeroPadding2D, Activation, Input, concatenate,Permute,Reshape,Cropping2D,Maximum,Cropping1D\n",
    "from keras.models import Model\n",
    "from keras.layers.normalization import BatchNormalization\n",
    "from keras.layers.pooling import MaxPooling2D, AveragePooling2D\n",
    "import fr_utils\n",
    "from keras.layers.core import Lambda, Flatten, Dense, Dropout\n",
    "#from theano.tensor import _shared\n",
    "from keras.utils import to_categorical\n",
    "import pickle"
   ]
  },
  {
   "cell_type": "code",
   "execution_count": 17,
   "metadata": {},
   "outputs": [],
   "source": [
    "m=open('x_train.pkl','rb+')\n",
    "x_train=pickle.load(m)"
   ]
  },
  {
   "cell_type": "code",
   "execution_count": 16,
   "metadata": {},
   "outputs": [],
   "source": [
    "y_train=open('y_train.pkl','rb+')\n",
    "y_train=pickle.load(y_train)"
   ]
  },
  {
   "cell_type": "code",
   "execution_count": 22,
   "metadata": {},
   "outputs": [],
   "source": [
    "labels=pickle.load(open('labels.pkl','rb'))"
   ]
  },
  {
   "cell_type": "code",
   "execution_count": null,
   "metadata": {},
   "outputs": [],
   "source": [
    "x_test=pickle.load(open('x_test.pkl','rb'))\n",
    "y_test=pickle.load(open('y_test.pkl','rb'))"
   ]
  },
  {
   "cell_type": "code",
   "execution_count": 29,
   "metadata": {},
   "outputs": [],
   "source": [
    "def conv2d_bn(x, filters, kernel_size, strides=1, padding='same', activation='relu', use_bias=False, name=None):\n",
    "    x = Conv2D(filters, kernel_size, strides=strides, padding=padding, use_bias=use_bias, kernel_initializer='he_normal', name=name)(x)\n",
    "    if not use_bias:\n",
    "        bn_axis = 1 if K.image_data_format() == 'channels_first' else 3\n",
    "        bn_name = None if name is None else name + '_bn'\n",
    "        x = BatchNormalization(axis=bn_axis, scale=False, name=bn_name)(x)\n",
    "    return x\n",
    "\n",
    "def mfm(x):\n",
    "    shape = K.int_shape(x)\n",
    "    x = Permute(dims=(3, 2, 1))(x) # swap 1 <-> 3 axis\n",
    "    x1 = Cropping2D(cropping=((0, shape[3] // 2), 0))(x)\n",
    "    x2 = Cropping2D(cropping=((shape[3] // 2, 0), 0))(x)\n",
    "    x = Maximum()([x1, x2])\n",
    "    x = Permute(dims=(3, 2, 1))(x) # swap 1 <-> 3 axis\n",
    "    x = Reshape([shape[1], shape[2], shape[3] // 2])(x)\n",
    "    return x\n",
    "\n",
    "def common_conv2d(net, filters, filters2):\n",
    "    res = net\n",
    "\n",
    "    net = conv2d_bn(net, filters=filters, kernel_size=1, strides=1, padding='same')\n",
    "    net = mfm(net)\n",
    "    net = conv2d_bn(net, filters=filters2, kernel_size=3, strides=1, padding='same')\n",
    "    net = mfm(net)\n",
    "\n",
    "    return net\n",
    "\n",
    "def lcnn9(inputs):\n",
    "    # Conv1\n",
    "    net = conv2d_bn(inputs, filters=96, kernel_size=5, strides=1, padding='same')\n",
    "    net = mfm(net)\n",
    "    net = MaxPooling2D(pool_size=2, strides=2, padding='same')(net)\n",
    "    net = Dropout(0.3)(net)\n",
    "\n",
    "    # Block1\n",
    "    net = common_conv2d(net,filters=96, filters2=192)\n",
    "    net = MaxPooling2D(pool_size=2, strides=2, padding='same')(net)\n",
    "    net = Dropout(0.3)(net)\n",
    "    # Block2\n",
    "    net = common_conv2d(net,filters=192, filters2=384)\n",
    "    net = MaxPooling2D(pool_size=2, strides=2, padding='same')(net)\n",
    "    net = Dropout(0.3)(net)\n",
    "    # Block3\n",
    "    net = common_conv2d(net,filters=384, filters2=256)\n",
    "\n",
    "    # Block4\n",
    "    net = common_conv2d(net,filters=256, filters2=256)\n",
    "    net = MaxPooling2D(pool_size=2, strides=2, padding='same')(net)\n",
    "\n",
    "    net = Flatten()(net)\n",
    "\n",
    "    return net\n"
   ]
  },
  {
   "cell_type": "code",
   "execution_count": 30,
   "metadata": {},
   "outputs": [],
   "source": [
    "input_image = Input(shape=(64, 64, 3))\n",
    "\n",
    "lcnn_output = lcnn9(inputs=input_image)\n",
    "\n",
    "fc1 = Dense(512, activation=None)(lcnn_output)\n",
    "fc1 = Reshape((512, 1))(fc1)\n",
    "fc1_1 = Cropping1D(cropping=(0, 256))(fc1)\n",
    "fc1_2 = Cropping1D(cropping=(256, 0))(fc1)\n",
    "fc1 = Maximum()([fc1_1, fc1_2])\n",
    "fc1 = Flatten()(fc1)\n",
    "\n",
    "out = Dense(610, activation='softmax')(fc1)\n",
    "model = Model(inputs=[input_image], outputs=out)"
   ]
  },
  {
   "cell_type": "code",
   "execution_count": 32,
   "metadata": {},
   "outputs": [
    {
     "name": "stderr",
     "output_type": "stream",
     "text": [
      "D:\\deeplearning\\anaconda\\envs\\tensorflow\\lib\\site-packages\\ipykernel_launcher.py:2: UserWarning: The `nb_epoch` argument in `fit` has been renamed `epochs`.\n",
      "  \n"
     ]
    },
    {
     "name": "stdout",
     "output_type": "stream",
     "text": [
      "Epoch 1/10\n",
      "6123/6123 [==============================] - 42s 7ms/step - loss: 1.2353 - acc: 0.6619\n",
      "Epoch 2/10\n",
      "6123/6123 [==============================] - 40s 7ms/step - loss: 0.6973 - acc: 0.8016\n",
      "Epoch 3/10\n",
      "6123/6123 [==============================] - 41s 7ms/step - loss: 0.4930 - acc: 0.8600\n",
      "Epoch 4/10\n",
      "6123/6123 [==============================] - 41s 7ms/step - loss: 0.3376 - acc: 0.9058\n",
      "Epoch 5/10\n",
      "6123/6123 [==============================] - 41s 7ms/step - loss: 0.2450 - acc: 0.9286\n",
      "Epoch 6/10\n",
      "6123/6123 [==============================] - 41s 7ms/step - loss: 0.1624 - acc: 0.9580\n",
      "Epoch 7/10\n",
      "6123/6123 [==============================] - 41s 7ms/step - loss: 0.1616 - acc: 0.9543\n",
      "Epoch 8/10\n",
      "6123/6123 [==============================] - 41s 7ms/step - loss: 0.1318 - acc: 0.9639\n",
      "Epoch 9/10\n",
      "6123/6123 [==============================] - 41s 7ms/step - loss: 0.1508 - acc: 0.9543\n",
      "Epoch 10/10\n",
      "6123/6123 [==============================] - 41s 7ms/step - loss: 0.1969 - acc: 0.9427\n"
     ]
    },
    {
     "data": {
      "text/plain": [
       "<keras.callbacks.History at 0x236713c5f60>"
      ]
     },
     "execution_count": 32,
     "metadata": {},
     "output_type": "execute_result"
    }
   ],
   "source": [
    "model.compile(optimizer='adam', loss='categorical_crossentropy',metrics=['accuracy'])\n",
    "model.fit(x_train[0],to_categorical(y_train[0],610),nb_epoch=10,batch_size=64)"
   ]
  },
  {
   "cell_type": "code",
   "execution_count": 40,
   "metadata": {},
   "outputs": [
    {
     "name": "stdout",
     "output_type": "stream",
     "text": [
      "610/610 [==============================] - 2s 3ms/step\n"
     ]
    },
    {
     "data": {
      "text/plain": [
       "[9.8014344574975194, 0.080327868974599675]"
      ]
     },
     "execution_count": 40,
     "metadata": {},
     "output_type": "execute_result"
    }
   ],
   "source": [
    "model.evaluate(x_test,to_categorical(y_test,610),batch_size=64)"
   ]
  },
  {
   "cell_type": "code",
   "execution_count": 39,
   "metadata": {},
   "outputs": [
    {
     "data": {
      "text/plain": [
       "True"
      ]
     },
     "execution_count": 39,
     "metadata": {},
     "output_type": "execute_result"
    }
   ],
   "source": [
    "import cv2\n",
    "cv2.imwrite('t.jpg',x_test[0])\n"
   ]
  },
  {
   "cell_type": "code",
   "execution_count": null,
   "metadata": {},
   "outputs": [],
   "source": []
  }
 ],
 "metadata": {
  "kernelspec": {
   "display_name": "Python 3",
   "language": "python",
   "name": "python3"
  },
  "language_info": {
   "codemirror_mode": {
    "name": "ipython",
    "version": 3
   },
   "file_extension": ".py",
   "mimetype": "text/x-python",
   "name": "python",
   "nbconvert_exporter": "python",
   "pygments_lexer": "ipython3",
   "version": "3.6.4"
  }
 },
 "nbformat": 4,
 "nbformat_minor": 2
}
